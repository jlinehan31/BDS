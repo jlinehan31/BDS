{
  "nbformat": 4,
  "nbformat_minor": 0,
  "metadata": {
    "colab": {
      "name": "Copy of lvt_data.ipynb",
      "provenance": [],
      "collapsed_sections": [],
      "include_colab_link": true
    },
    "kernelspec": {
      "name": "python3",
      "display_name": "Python 3"
    },
    "language_info": {
      "name": "python"
    }
  },
  "cells": [
    {
      "cell_type": "markdown",
      "metadata": {
        "id": "view-in-github",
        "colab_type": "text"
      },
      "source": [
        "<a href=\"https://colab.research.google.com/github/jlinehan31/BDS/blob/master/Copy_of_lvt_data.ipynb\" target=\"_parent\"><img src=\"https://colab.research.google.com/assets/colab-badge.svg\" alt=\"Open In Colab\"/></a>"
      ]
    },
    {
      "cell_type": "code",
      "source": [
        "# !pip install df2gspread"
      ],
      "metadata": {
        "id": "D49rpVZbls2O"
      },
      "execution_count": null,
      "outputs": []
    },
    {
      "cell_type": "code",
      "execution_count": null,
      "metadata": {
        "id": "orhuTPb9coE2"
      },
      "outputs": [],
      "source": [
        "import pandas as pd \n",
        "from datetime import datetime as dt\n",
        "import gspread\n",
        "from oauth2client.service_account import ServiceAccountCredentials\n",
        "from df2gspread import df2gspread as d2g"
      ]
    },
    {
      "cell_type": "code",
      "source": [
        "filename = '2022.05 - LVT Customer Data'\n",
        "df = pd.read_csv(f'{filename}.csv')"
      ],
      "metadata": {
        "id": "95Ml7N6wctGI"
      },
      "execution_count": null,
      "outputs": []
    },
    {
      "cell_type": "code",
      "source": [
        "# Isolate date columns to prepare transformation\n",
        "id_cols = df.columns[:7]\n",
        "date_cols = df.columns[7:]"
      ],
      "metadata": {
        "id": "KGemvzngcua4"
      },
      "execution_count": null,
      "outputs": []
    },
    {
      "cell_type": "code",
      "source": [
        "# Transform data to long format\n",
        "df_final = pd.melt(df, id_vars=id_cols, value_vars=date_cols, var_name='Date', value_name='MRR')"
      ],
      "metadata": {
        "id": "vkuw8dVbdJOQ"
      },
      "execution_count": null,
      "outputs": []
    },
    {
      "cell_type": "code",
      "source": [
        "# Convert `Date` column to date type\n",
        "df_final['Date'] = pd.to_datetime(df_final['Date'])"
      ],
      "metadata": {
        "id": "b6kDUnw6eTF6"
      },
      "execution_count": null,
      "outputs": []
    },
    {
      "cell_type": "code",
      "source": [
        "# Change null values in `MRR` to 0\n",
        "df_final['MRR'] = df_final['MRR'].fillna(0)"
      ],
      "metadata": {
        "id": "P48ver5CeKYZ"
      },
      "execution_count": null,
      "outputs": []
    },
    {
      "cell_type": "code",
      "source": [
        "# Sort `df_final` by `Acumatica ID` and `Date` to prepare for export\n",
        "df_final = df_final.sort_values(by=['Acumatica ID', 'Date']).reset_index(drop=True)"
      ],
      "metadata": {
        "id": "PISddD15dgsJ"
      },
      "execution_count": null,
      "outputs": []
    },
    {
      "cell_type": "code",
      "source": [
        "# Calculate max date in `df_final`\n",
        "max_date = df_final['Date'].max().strftime('%b-%y')"
      ],
      "metadata": {
        "id": "oKDnA4oEgBiY"
      },
      "execution_count": null,
      "outputs": []
    },
    {
      "cell_type": "code",
      "source": [
        "# Export data to csv\n",
        "# df_final.to_csv(f'MRR Data ({max_date}).csv', index=False)"
      ],
      "metadata": {
        "id": "iUcHsicpdwFX"
      },
      "execution_count": null,
      "outputs": []
    },
    {
      "cell_type": "code",
      "source": [
        "# Create GS scope and credentials for API\n",
        "scope = ['https://spreadsheets.google.com/feeds',\n",
        "         'https://www.googleapis.com/auth/drive']\n",
        "\n",
        "google_key_file = 'lvt-customer-data-eaa28d6f0bfa.json' \n",
        "credentials = ServiceAccountCredentials.from_json_keyfile_name(google_key_file, scope)\n",
        "gc = gspread.authorize(credentials)\n",
        "spreadsheet_key = '1xEZVbXia6oE3eAQhw1agc4ifbE_m1-YZKM4EKGS5foE' #LVT Customer Data"
      ],
      "metadata": {
        "id": "vuDXOaWjaJJd"
      },
      "execution_count": null,
      "outputs": []
    },
    {
      "cell_type": "code",
      "source": [
        "# Upload to Google Sheets `lvt_data_test`\n",
        "d2g.upload(df_final, spreadsheet_key, 'Sheet1', credentials=credentials, row_names=False)"
      ],
      "metadata": {
        "colab": {
          "base_uri": "https://localhost:8080/"
        },
        "id": "_VnZ854BBWgn",
        "outputId": "2b70a738-6887-47ba-e2dc-1819207b7f40"
      },
      "execution_count": null,
      "outputs": [
        {
          "output_type": "execute_result",
          "data": {
            "text/plain": [
              "<Worksheet 'Sheet1' id:0>"
            ]
          },
          "metadata": {},
          "execution_count": 12
        }
      ]
    },
    {
      "cell_type": "code",
      "source": [
        ""
      ],
      "metadata": {
        "id": "Kk7x_57NB2Vb"
      },
      "execution_count": null,
      "outputs": []
    }
  ]
}